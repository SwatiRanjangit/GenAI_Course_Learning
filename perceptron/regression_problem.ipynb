{
 "cells": [
  {
   "cell_type": "code",
   "execution_count": null,
   "id": "2ea5269c",
   "metadata": {},
   "outputs": [],
   "source": [
    "# load datasets\n",
    "df = pd.read_csv('/kaggle/input/graduate-admissions/Admission_Predict_Ver1.1.csv')"
   ]
  },
  {
   "cell_type": "code",
   "execution_count": null,
   "id": "f40e136a",
   "metadata": {},
   "outputs": [],
   "source": [
    "# verify data is clean or not \n",
    "df.head()\n",
    "df.shape\n",
    "df.info() # to verify null values\n",
    "df.duplicated().sum() # to verify duplicat values\n"
   ]
  },
  {
   "cell_type": "code",
   "execution_count": null,
   "id": "e0cdb966",
   "metadata": {},
   "outputs": [],
   "source": [
    "# drop unwanted column\n",
    "df.drop(columns=['Serial No'],inplace=True) "
   ]
  },
  {
   "cell_type": "code",
   "execution_count": null,
   "metadata": {},
   "outputs": [],
   "source": [
    "# define x and y for splitting the data\n",
    "x = df.iloc[:,0:-1]\n",
    "y= df.iloc[:,-1]"
   ]
  },
  {
   "cell_type": "code",
   "execution_count": null,
   "id": "af1cad6a",
   "metadata": {},
   "outputs": [],
   "source": [
    "#split data \n",
    "from sklearn.model_selection import train_test_split\n",
    "x_train,x_test,y_train,y_test= train_test_split(x,y,test_size=0.2,random_state=1)"
   ]
  },
  {
   "cell_type": "code",
   "execution_count": null,
   "id": "2e65d197",
   "metadata": {},
   "outputs": [],
   "source": [
    "# Scale the data for similar type of input values\n",
    "# for regression we use MinMaxScaler\n",
    "from sklearn.preprocessing import MinMaxScaler\n",
    "scaler = MinMaxScaler()\n",
    "x_train_scaled= scaler.fit_transform(x_train)\n",
    "x_test_scaled= scaler.transform(x_test)"
   ]
  },
  {
   "cell_type": "code",
   "execution_count": null,
   "id": "033b3e31",
   "metadata": {},
   "outputs": [],
   "source": [
    "# Train the datasets\n",
    "import tensorflow\n",
    "from tensorflow import keras\n",
    "from keras import Sequential\n",
    "from keras.layers import Dense\n",
    "\n",
    "\n",
    "model = Sequential()\n",
    "model.add(Dense(7,activation='relu',input_dim=7))\n",
    "model.add(Dense(7,activation='relu'))\n",
    "model.add(Dense(1,activation='linear'))"
   ]
  },
  {
   "cell_type": "code",
   "execution_count": null,
   "id": "339fa15b",
   "metadata": {},
   "outputs": [],
   "source": [
    "# summary of datasets\n",
    "model.summary()"
   ]
  },
  {
   "cell_type": "code",
   "execution_count": null,
   "id": "0cd7873b",
   "metadata": {},
   "outputs": [],
   "source": [
    "# Compile the model\n",
    "model.compile(loss='mean_squared_error',optimizer='Adam')"
   ]
  },
  {
   "cell_type": "code",
   "execution_count": null,
   "id": "b5396510",
   "metadata": {},
   "outputs": [],
   "source": [
    "# train the model and store the history\n",
    "history = model.fit(x_train_scaled,y_train,epochs=100,validation_split=0.2)"
   ]
  },
  {
   "cell_type": "code",
   "execution_count": null,
   "id": "8ff63dfc",
   "metadata": {},
   "outputs": [],
   "source": [
    "# store predict data for test_scaled values\n",
    "y_pred=model.predict(x_test_scaled)"
   ]
  },
  {
   "cell_type": "code",
   "execution_count": null,
   "id": "7e394980",
   "metadata": {},
   "outputs": [],
   "source": [
    "# compare the score for our model prediction with y_test data\n",
    "from sklearn.metrics import r2_score\n",
    "r2_score(y_pred,y_test)"
   ]
  },
  {
   "cell_type": "code",
   "execution_count": null,
   "id": "a0a97429",
   "metadata": {},
   "outputs": [],
   "source": [
    "#plot graph to see loss\n",
    "import matplotlib.pyplot as plt\n",
    "plt.plot(history.history['loss'])\n",
    "plt.plot(history.history['val_loss'])"
   ]
  }
 ],
 "metadata": {
  "language_info": {
   "name": "python"
  }
 },
 "nbformat": 4,
 "nbformat_minor": 5
}
