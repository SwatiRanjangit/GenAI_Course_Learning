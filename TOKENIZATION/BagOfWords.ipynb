{
 "cells": [
  {
   "cell_type": "code",
   "execution_count": 1,
   "id": "d5515c2b",
   "metadata": {},
   "outputs": [
    {
     "name": "stderr",
     "output_type": "stream",
     "text": [
      "<>:4: SyntaxWarning: invalid escape sequence '\\M'\n",
      "<>:4: SyntaxWarning: invalid escape sequence '\\M'\n",
      "C:\\Users\\HP\\AppData\\Local\\Temp\\ipykernel_19320\\4206043397.py:4: SyntaxWarning: invalid escape sequence '\\M'\n",
      "  message=pd.read_csv('C:\\MyCode\\PythonLearning\\smaple.csv',sep='\\t',names=['lable','message'])\n"
     ]
    },
    {
     "name": "stdout",
     "output_type": "stream",
     "text": [
      "  lable                                            message\n",
      "0  spam  Win a brand new iPhone! Click here to claim yo...\n",
      "1   ham           Hey, are we still on for dinner tonight?\n",
      "2   ham              Can you send me the assignment notes?\n",
      "3  spam  Congratulations! You've been selected for a $1...\n",
      "4   ham  Meeting is rescheduled to 3 PM. Please be on t...\n",
      "5  spam  You've won a free vacation to the Bahamas! Cal...\n",
      "6   ham     Don't forget to submit your project by Friday.\n",
      "7  spam  Earn money from home. No experience required. ...\n",
      "8   ham  I'll be there in 10 minutes. Sorry for the delay.\n",
      "9  spam  Get cheap meds online without a prescription. ...\n"
     ]
    }
   ],
   "source": [
    "import pandas as pd\n",
    "\n",
    "\n",
    "message=pd.read_csv('C:\\MyCode\\PythonLearning\\smaple.csv',sep='\\t',names=['lable','message'])\n",
    "print(message)"
   ]
  }
 ],
 "metadata": {
  "kernelspec": {
   "display_name": "myenv",
   "language": "python",
   "name": "python3"
  },
  "language_info": {
   "codemirror_mode": {
    "name": "ipython",
    "version": 3
   },
   "file_extension": ".py",
   "mimetype": "text/x-python",
   "name": "python",
   "nbconvert_exporter": "python",
   "pygments_lexer": "ipython3",
   "version": "3.12.11"
  }
 },
 "nbformat": 4,
 "nbformat_minor": 5
}
