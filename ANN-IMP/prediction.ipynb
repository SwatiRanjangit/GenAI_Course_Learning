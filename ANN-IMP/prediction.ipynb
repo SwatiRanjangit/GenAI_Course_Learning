{
 "cells": [
  {
   "cell_type": "code",
   "execution_count": null,
   "id": "d514346f",
   "metadata": {},
   "outputs": [],
   "source": [
    "import tensorflow as tf\n",
    "from tensorflow.keras.models import load_model\n",
    "import pickle\n",
    "import pandas as pd\n",
    "import numpy as np "
   ]
  },
  {
   "cell_type": "code",
   "execution_count": null,
   "id": "b27cebd7",
   "metadata": {},
   "outputs": [],
   "source": [
    "#Load and re-use the trained model to use for input to preprocess the data\n",
    "model=load_model('model.h5')\n",
    "\n",
    "with open('label_encoder_gender.pkl','rb') as file:\n",
    "    label_encoder_gender= pickle.load(file)\n",
    "with open('one_hot_encoder_geo.pkl','rb') as file:\n",
    "    one_hot_encoder_geo=pickle.load(file)\n",
    "with open('Scaler.pkl','rb') as file:\n",
    "    Scaler=pickle.load(file)\n"
   ]
  },
  {
   "cell_type": "code",
   "execution_count": null,
   "id": "db786244",
   "metadata": {},
   "outputs": [],
   "source": [
    "# Input Data\n",
    "\n",
    "input_data={\n",
    "    'CreditScore': 600,\n",
    "    'Geography': 'France',\n",
    "    'Gender': 'Male',\n",
    "    'Age': 45,\n",
    "    'Tenure': 3,\n",
    "    'Balance': 60000,\n",
    "    'NumOfProducts': 2,\n",
    "    'HasCrCard': 1,\n",
    "    'IsActiveMember': 1,\n",
    "    'EstimatedSalary': 50000\n",
    "}\n",
    "\n"
   ]
  },
  {
   "cell_type": "code",
   "execution_count": null,
   "id": "8cde0763",
   "metadata": {},
   "outputs": [],
   "source": [
    "# Label Encoder for Gender\n",
    "input_df=pd.DataFrame([input_data])\n",
    "input_df"
   ]
  },
  {
   "cell_type": "code",
   "execution_count": null,
   "id": "26df41c2",
   "metadata": {},
   "outputs": [],
   "source": [
    "input_df['Gender']= label_encoder_gender.transform(input_df['Gender'])\n",
    "input_df"
   ]
  },
  {
   "cell_type": "code",
   "execution_count": null,
   "id": "a604b74b",
   "metadata": {},
   "outputs": [],
   "source": [
    "# For Geography\n",
    "\n",
    "geo_encoder= one_hot_encoder_geo.transform([[input_data['Geography']]]).toarray()\n",
    "\n"
   ]
  },
  {
   "cell_type": "code",
   "execution_count": null,
   "id": "009b55d8",
   "metadata": {},
   "outputs": [],
   "source": [
    "\n",
    "geo_encoder_df=pd.DataFrame(geo_encoder,columns=one_hot_encoder_geo.get_feature_names_out(['Geography']))\n"
   ]
  },
  {
   "cell_type": "code",
   "execution_count": null,
   "id": "18ac7e90",
   "metadata": {},
   "outputs": [],
   "source": [
    "# Concate the data\n",
    "input_df=pd.concat([input_df.drop(\"Geography\",axis=1),geo_encoder_df])"
   ]
  },
  {
   "cell_type": "code",
   "execution_count": 13,
   "id": "b37c5afe",
   "metadata": {},
   "outputs": [
    {
     "data": {
      "text/plain": [
       "array([[-0.53598516,  0.91324755,  0.58015577, -0.69539349, -0.25781119,\n",
       "         0.80843615,  0.64920267,  0.97481699, -0.87683221,         nan,\n",
       "                nan,         nan],\n",
       "       [        nan,         nan,         nan,         nan,         nan,\n",
       "                nan,         nan,         nan,         nan,  1.00150113,\n",
       "        -0.57946723, -0.57638802]])"
      ]
     },
     "execution_count": 13,
     "metadata": {},
     "output_type": "execute_result"
    }
   ],
   "source": [
    "# Scale input\n",
    "scaled_input=Scaler.transform(input_df)\n",
    "scaled_input"
   ]
  },
  {
   "cell_type": "code",
   "execution_count": 14,
   "id": "d3b7a778",
   "metadata": {},
   "outputs": [
    {
     "name": "stdout",
     "output_type": "stream",
     "text": [
      "\u001b[1m1/1\u001b[0m \u001b[32m━━━━━━━━━━━━━━━━━━━━\u001b[0m\u001b[37m\u001b[0m \u001b[1m0s\u001b[0m 203ms/step\n"
     ]
    },
    {
     "data": {
      "text/plain": [
       "array([[0.25732332],\n",
       "       [0.25732332]], dtype=float32)"
      ]
     },
     "execution_count": 14,
     "metadata": {},
     "output_type": "execute_result"
    }
   ],
   "source": [
    "prediction= model.predict(scaled_input)\n",
    "prediction"
   ]
  },
  {
   "cell_type": "code",
   "execution_count": 15,
   "id": "75eaeea7",
   "metadata": {},
   "outputs": [
    {
     "data": {
      "text/plain": [
       "0.25732332"
      ]
     },
     "execution_count": 15,
     "metadata": {},
     "output_type": "execute_result"
    }
   ],
   "source": [
    "prediction=prediction[0][0]\n",
    "prediction"
   ]
  },
  {
   "cell_type": "code",
   "execution_count": 16,
   "id": "f6cef6b9",
   "metadata": {},
   "outputs": [
    {
     "name": "stdout",
     "output_type": "stream",
     "text": [
      "CUstomer is not likely to churn\n"
     ]
    }
   ],
   "source": [
    "if prediction > 0.5:\n",
    "    print('Customer is likely to churn')\n",
    "else:\n",
    "    print('CUstomer is not likely to churn')"
   ]
  }
 ],
 "metadata": {
  "kernelspec": {
   "display_name": "myenv",
   "language": "python",
   "name": "python3"
  },
  "language_info": {
   "codemirror_mode": {
    "name": "ipython",
    "version": 3
   },
   "file_extension": ".py",
   "mimetype": "text/x-python",
   "name": "python",
   "nbconvert_exporter": "python",
   "pygments_lexer": "ipython3",
   "version": "3.12.11"
  }
 },
 "nbformat": 4,
 "nbformat_minor": 5
}
